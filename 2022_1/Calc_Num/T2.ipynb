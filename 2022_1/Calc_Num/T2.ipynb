{
  "nbformat": 4,
  "nbformat_minor": 0,
  "metadata": {
    "colab": {
      "name": "T2.ipynb",
      "provenance": [],
      "collapsed_sections": [
        "ea0514be",
        "arKIlU0rWysP",
        "7iHyYr8ZSpPG",
        "Znjru0inSut1",
        "Eekv_-nDSy01"
      ],
      "toc_visible": true
    },
    "kernelspec": {
      "name": "python3",
      "display_name": "Python 3"
    },
    "language_info": {
      "name": "python"
    }
  },
  "cells": [
    {
      "cell_type": "markdown",
      "source": [
        "**Tarefa 2 - Cálculo Númerico 2022/01**\n",
        "\n",
        "*Professor:* **Sávio Rodrigues**\n",
        "\n",
        "*Alunos:* **Jorge Luiz Medeiros Pires (790942)** e **Giullio Emmanuel da Cruz Di Gerolamo (790965)**"
      ],
      "metadata": {
        "id": "TwYXRVUhOaau"
      }
    },
    {
      "cell_type": "markdown",
      "source": [
        "Importando as bibliotecas que serão utilizadas durante todas as questões."
      ],
      "metadata": {
        "id": "mMpkHWXK47mB"
      }
    },
    {
      "cell_type": "code",
      "source": [
        "import numpy as np\n",
        "import matplotlib.pyplot as plt"
      ],
      "metadata": {
        "id": "hXqt1xsV3JkV"
      },
      "execution_count": 3,
      "outputs": []
    },
    {
      "cell_type": "markdown",
      "source": [
        "# **PROBLEMA 1**\n"
      ],
      "metadata": {
        "id": "ea0514be"
      }
    },
    {
      "cell_type": "markdown",
      "source": [
        "**PROBLEMA 1**"
      ],
      "metadata": {
        "id": "qCn0B-s67hzM"
      }
    },
    {
      "cell_type": "markdown",
      "source": [
        "No problema 1, é apresentado o preço de um produto, uma TV Samsung que custa **1,305.00** reais a vista no boleto ou com uma opção de pagamento a prazo que possui uma entrada de **139.65** reais com mais 11 parcelas de **139.56** reais. Assim é pedido que se ache o valor do juros mensal, e anual do pagamento parcelado.\n",
        "\n",
        "A partir disso, foi criado um função para que depois seja aplicado o método da bisseção. Ou seja, vamos aproximando o valor do zero de função (pela fórmula a seguir) até encontrar o valor que satisfaça a precisão definida.\n",
        "\n",
        "\\begin{align}\n",
        "  \\frac{a+b}{2}\n",
        "\\end{align}\n",
        "\n",
        "\n",
        "Para determinar o intervalo, plotamos um gráfico. Dessa forma, poderiamos visualizar um intervalo de forma aproximada."
      ],
      "metadata": {
        "id": "crqEAhfK3De6"
      }
    },
    {
      "cell_type": "markdown",
      "source": [
        "Começamos definindo as variáveis definidas pelo problema."
      ],
      "metadata": {
        "id": "OB3OZ1Bv4v6q"
      }
    },
    {
      "cell_type": "code",
      "execution_count": 92,
      "metadata": {
        "id": "5qSR6xF7uQ56"
      },
      "outputs": [],
      "source": [
        "precoVista1 = 1305\n",
        "valorParcela1 = 139.56\n",
        "numeroParcela1 = 11\n",
        "entrada1 = 139.65"
      ]
    },
    {
      "cell_type": "markdown",
      "source": [
        "Para definir a função, utilizamos a fórmula:\n",
        "\n",
        "\\begin{align}\n",
        "  f(juros) =∑ \\frac{valorParcela}{(1+juros)^n}\n",
        "\\end{align}\n",
        "\n",
        "sendo n, o numero de parcelas."
      ],
      "metadata": {
        "id": "MuAVzFfm4_HL"
      }
    },
    {
      "cell_type": "code",
      "source": [
        "Q = precoVista1 - entrada1 \n",
        "\n",
        "def f(juros):\n",
        "  y = 0\n",
        "  juros=juros/100\n",
        "  for i in range (1,numeroParcela1+1):\n",
        "    y = y + valorParcela1/(1+juros)**(i)\n",
        "  return y - Q"
      ],
      "metadata": {
        "id": "wvXJ1-B_907R"
      },
      "execution_count": 93,
      "outputs": []
    },
    {
      "cell_type": "markdown",
      "source": [
        "Definimos um gráfico simples, apenas para visualizar um intervalo para ser escolhido para o  método da bisseção."
      ],
      "metadata": {
        "id": "ad8xfqSh6846"
      }
    },
    {
      "cell_type": "code",
      "source": [
        "x=np.linspace(0,10,200) \n",
        "cm = 1/2.54  \n",
        "fig, ax = plt.subplots(figsize=(15*cm, 10*cm))\n",
        "ax.plot(x, f(x), label = 'a função f')    \n",
        "plt.axhline(y=0, color='r' ) #a linha do zero foi traçada para melhorar a visualização da raiz da função\n",
        "ax.set_xlabel('Valor do Juros',fontsize=14) \n",
        "ax.set_ylabel('Valor da Função',fontsize=14)\n",
        "ax.set_title('Função do juros',fontsize=14)\n",
        "ax.legend(loc='lower right')\n",
        "ax.grid(True)\n",
        "\n",
        "plt.show()"
      ],
      "metadata": {
        "colab": {
          "base_uri": "https://localhost:8080/",
          "height": 297
        },
        "id": "q600G8Q_7RY8",
        "outputId": "e7c35b7a-95d9-4d90-be44-106b644f0942"
      },
      "execution_count": 94,
      "outputs": [
        {
          "output_type": "display_data",
          "data": {
            "text/plain": [
              "<Figure size 425.197x283.465 with 1 Axes>"
            ],
            "image/png": "[encoded data removed]"
          },
          "metadata": {
            "needs_background": "light"
          }
        }
      ]
    },
    {
      "cell_type": "markdown",
      "source": [
        "Decidimos então aproximar o gráfico, reduzindo o intervalo buscado."
      ],
      "metadata": {
        "id": "BuqgbkyI7af8"
      }
    },
    {
      "cell_type": "code",
      "source": [
        "x=np.linspace(4,6,200) \n",
        "cm = 1/2.54  \n",
        "fig, ax = plt.subplots(figsize=(15*cm, 10*cm))\n",
        "ax.plot(x, f(x), label = 'a função f')    \n",
        "plt.axhline(y=0, color='r' ) \n",
        "ax.set_xlabel('Valor do Juros',fontsize=14) \n",
        "ax.set_ylabel('Valor da Função',fontsize=14)\n",
        "ax.set_title('Função do juros',fontsize=14)\n",
        "ax.legend(loc='lower right')\n",
        "ax.grid(True)\n",
        "\n",
        "plt.show()"
      ],
      "metadata": {
        "colab": {
          "base_uri": "https://localhost:8080/",
          "height": 297
        },
        "id": "jyKw5DaM4cG8",
        "outputId": "b2b37617-3796-4037-ba16-c9443df30cba"
      },
      "execution_count": 95,
      "outputs": [
        {
          "output_type": "display_data",
          "data": {
            "text/plain": [
              "<Figure size 425.197x283.465 with 1 Axes>"
            ],
            "image/png": "[encoded data removed]"
          },
          "metadata": {
            "needs_background": "light"
          }
        }
      ]
    },
    {
      "cell_type": "markdown",
      "source": [
        "Como dito anteriormente, decidimos usar o método da bisseção por não precisar de derivada. Uma vez, que a nossa função possui um somatório e isso dificultaria o processo."
      ],
      "metadata": {
        "id": "Kj9-FmXs7oOf"
      }
    },
    {
      "cell_type": "code",
      "source": [
        "a = 4 #intervalo inicial\n",
        "b = 5 #intervalo inicial\n",
        "\n",
        "precisao = 0.1 #como não foi dado uma precisão, achamos que por se tratar de juros, 0.1 seria uma boa precisão\n",
        "\n",
        "if (b-a) < precisao:\n",
        "   jurosMes = a\n",
        "else:\n",
        "   k = 1 #interações\n",
        "   M = f(a)\n",
        "   while True:\n",
        "      x = (a+b)/2\n",
        "      print(\"Iteração:\",k)\n",
        "      print(\"Taxa de juros encontrada:\",x) #taxa de juros\n",
        "      print(\"Valor da f(juros):\",f(x)) #f(taxa de juros)\n",
        "      print(\"Pŕoximo valor:\",(b - a)/2) \n",
        "      print(\"\\n\")\n",
        "\n",
        "      if M * f(x) > 0:\n",
        "         a = x\n",
        "      else:\n",
        "         b = x\n",
        "\n",
        "      if (b - a) <= precisao:\n",
        "         jurosMes = (a + b)/2\n",
        "         break\n",
        "\n",
        "      k = k + 1\n",
        "\n",
        "print(\"Valor encontrado: {}% ao mês.\".format(jurosMes)) #juros mensal\n"
      ],
      "metadata": {
        "colab": {
          "base_uri": "https://localhost:8080/"
        },
        "id": "sIqSwud5BuD_",
        "outputId": "d539e376-7a10-4377-b1be-49586c127d6c"
      },
      "execution_count": 96,
      "outputs": [
        {
          "output_type": "stream",
          "name": "stdout",
          "text": [
            "Iteração: 1\n",
            "Taxa de juros encontrada: 4.5\n",
            "Valor da f(juros): 24.94564478229222\n",
            "Pŕoximo valor: 0.5\n",
            "\n",
            "\n",
            "Iteração: 2\n",
            "Taxa de juros encontrada: 4.75\n",
            "Valor da f(juros): 9.265255776084814\n",
            "Pŕoximo valor: 0.25\n",
            "\n",
            "\n",
            "Iteração: 3\n",
            "Taxa de juros encontrada: 4.875\n",
            "Valor da f(juros): 1.5411438341568555\n",
            "Pŕoximo valor: 0.125\n",
            "\n",
            "\n",
            "Iteração: 4\n",
            "Taxa de juros encontrada: 4.9375\n",
            "Valor da f(juros): -2.2923030175736585\n",
            "Pŕoximo valor: 0.0625\n",
            "\n",
            "\n",
            "Valor encontrado: 4.90625% ao mês.\n"
          ]
        }
      ]
    },
    {
      "cell_type": "markdown",
      "source": [
        "Agora definimos uma função para encontrar o juros anual a partir do juros mensal. Através da fórmula:\n",
        "\n",
        "\\begin{align}\n",
        "  f(mensal) =(((\\frac{mensal}{100}{+ 1})^{12})-1)*100\n",
        "\\end{align}\n"
      ],
      "metadata": {
        "id": "rX1WuPiIGNwd"
      }
    },
    {
      "cell_type": "code",
      "source": [
        "def jurosAno(juros):\n",
        "  y = ((juros/100)+1)**12\n",
        "  y = (y-1)*100\n",
        "  return y"
      ],
      "metadata": {
        "id": "un3A1o2WhAXm"
      },
      "execution_count": 97,
      "outputs": []
    },
    {
      "cell_type": "code",
      "source": [
        "print(\"O valor encontrado para o juros anual é: {}%\".format(jurosAno(jurosMes)))"
      ],
      "metadata": {
        "colab": {
          "base_uri": "https://localhost:8080/"
        },
        "id": "xonMNi1FHRXn",
        "outputId": "d1a1b946-1080-4237-dbc6-a818ef163091"
      },
      "execution_count": 98,
      "outputs": [
        {
          "output_type": "stream",
          "name": "stdout",
          "text": [
            "O valor encontrado para o juros anual é: 77.67092162054368%\n"
          ]
        }
      ]
    },
    {
      "cell_type": "markdown",
      "source": [
        "**Resposta:**\n",
        "\n",
        "Taxa de juros Mensal: **4.9%**\n",
        "\n",
        "Taxa de juros Anual: **77.6%**\n"
      ],
      "metadata": {
        "id": "arKIlU0rWysP"
      }
    },
    {
      "cell_type": "markdown",
      "source": [
        ""
      ],
      "metadata": {
        "id": "kDByRweWSo9t"
      }
    },
    {
      "cell_type": "markdown",
      "source": [
        "# PROBLEMA 2\n"
      ],
      "metadata": {
        "id": "7iHyYr8ZSpPG"
      }
    },
    {
      "cell_type": "markdown",
      "source": [
        "**PROBLEMA 2**"
      ],
      "metadata": {
        "id": "MtapAH2t7qxi"
      }
    },
    {
      "cell_type": "markdown",
      "source": [
        "No problema 2, este empresário tem duas opções distintas para pagar uma maquina de custo **129,000.00** reais. Uma destas opções é a rota de empréstimo bancário com um juros de *2%* ao mês, enquanto a segunda rota seria parcelar com a loja em uma entrada e quatro parcelas todas diferentes dispostas da seguinte forma:\n",
        "\n",
        "*entrada:* **27,000.00** reais\n",
        "\n",
        "*parcela 1:* **24,000.00** reais\n",
        "\n",
        "*parcela 2:* **30,000.00** reais\n",
        "\n",
        "*parcela 3:* **32,000.00** reais\n",
        "\n",
        "*parcela 4:* **22,000.00** reais\n",
        "\n",
        "*total parcelado:* **135,000.00** *(6,000.00 a mais que o valor a vista)*\n",
        "\n",
        "Com isso foi dado a tarefa de descobrir a taxa de juros paga no pagamento parcelado da loja e qual dessas opções é a melhor com relação a juros cobrados.\n",
        "Para isso utilizamos novamente o método de Bisseção para encontrar o valor do juros da segunda rota, e a partir daí começar as comparações."
      ],
      "metadata": {
        "id": "7gZQAvYSuReJ"
      }
    },
    {
      "cell_type": "markdown",
      "source": [
        "Mais uma vez começamos definindo as variaveis do problema."
      ],
      "metadata": {
        "id": "ArzcYDNKHvsb"
      }
    },
    {
      "cell_type": "code",
      "source": [
        "valorVista2 = 129000\n",
        "jurosEmprestimo2 = 0.02\n",
        "valorEntrada2 = 27000\n",
        "valorParcelas2 = [24000,30000,32000,22000] \n",
        "totalParcelado2 = 135000"
      ],
      "metadata": {
        "id": "jIkHz6-ywXTP"
      },
      "execution_count": 99,
      "outputs": []
    },
    {
      "cell_type": "markdown",
      "source": [
        "Definimos a `def f2(juros)`, mas desta vez cada parcela precisa ser levada em consideração por elas serem diferentes."
      ],
      "metadata": {
        "id": "PsdeuZOPH7zB"
      }
    },
    {
      "cell_type": "code",
      "source": [
        "Q = valorVista2 - valorEntrada2\n",
        "def f2(juros):\n",
        "  y = 0\n",
        "  juros=juros/100\n",
        "  for i in range (1,5):\n",
        "    y = y + valorParcelas2[i-1]/(1+juros)**(i) #ao mesmo tempo que o loop é responsável por modificar o mês, ele também modifica o valorParcelas. Assim correndo pelo vetor.\n",
        "  return y - Q"
      ],
      "metadata": {
        "id": "oHh0ULVPdVNy"
      },
      "execution_count": 100,
      "outputs": []
    },
    {
      "cell_type": "code",
      "source": [
        "x=np.linspace(0,10,200)\n",
        "cm = 1/2.54 \n",
        "fig, ax = plt.subplots(figsize=(15*cm, 10*cm))\n",
        "ax.plot(x, f2(x), label = 'a função f(juros)')\n",
        "plt.axhline(y=0, color='r' )\n",
        "ax.set_xlabel('Valor do Juros',fontsize=14)\n",
        "ax.set_ylabel('Valor da função',fontsize=14)\n",
        "ax.set_title('Função do Juros Mensal',fontsize=14) \n",
        "ax.legend(loc='lower right')\n",
        "ax.grid(True)\n",
        "\n",
        "plt.show()"
      ],
      "metadata": {
        "colab": {
          "base_uri": "https://localhost:8080/",
          "height": 297
        },
        "id": "Fl2ip646IcaT",
        "outputId": "1dc5a0b4-e8ad-4307-a64d-c452ee22de11"
      },
      "execution_count": 101,
      "outputs": [
        {
          "output_type": "display_data",
          "data": {
            "text/plain": [
              "<Figure size 425.197x283.465 with 1 Axes>"
            ],
            "image/png": "[encoded data removed]"
          },
          "metadata": {
            "needs_background": "light"
          }
        }
      ]
    },
    {
      "cell_type": "markdown",
      "source": [
        "Outra vez, reduzimos o intervalo do gráfico para melhorar a visualização do intervalo que será utilizado para achar o método da bisseção"
      ],
      "metadata": {
        "id": "PFhojnOmIgr-"
      }
    },
    {
      "cell_type": "code",
      "source": [
        "x=np.linspace(2,4,100)\n",
        "cm = 1/2.54 \n",
        "fig, ax = plt.subplots(figsize=(15*cm, 10*cm))\n",
        "ax.plot(x, f2(x), label = 'a função f(juros)')\n",
        "plt.axhline(y=0, color='r' )\n",
        "ax.set_xlabel('x',fontsize=14)\n",
        "ax.set_ylabel('y',fontsize=14)\n",
        "ax.set_title('Função do Juros Mensal',fontsize=14) \n",
        "ax.legend(loc='lower right')\n",
        "ax.grid(True)\n",
        "\n",
        "plt.show()"
      ],
      "metadata": {
        "colab": {
          "base_uri": "https://localhost:8080/",
          "height": 297
        },
        "id": "learnjUGesm7",
        "outputId": "7c47e3aa-b2e0-4c31-94d8-17484ebce6c0"
      },
      "execution_count": 102,
      "outputs": [
        {
          "output_type": "display_data",
          "data": {
            "text/plain": [
              "<Figure size 425.197x283.465 with 1 Axes>"
            ],
            "image/png": "[encoded data removed]"
          },
          "metadata": {
            "needs_background": "light"
          }
        }
      ]
    },
    {
      "cell_type": "code",
      "source": [
        "a = 2.25 #intervalo inicial\n",
        "b = 2.5 #intervalo inicial\n",
        "\n",
        "precisao = 0.01 #como não foi dado uma precisão, achamos que por se tratar de juros, 0.01 seria uma boa precisão\n",
        "\n",
        "if (b-a) < precisao:\n",
        "   jurosMes = a\n",
        "else:\n",
        "   k = 1 #interações\n",
        "   M = f2(a)\n",
        "   while True:\n",
        "      x = (a+b)/2\n",
        "      print(\"Iteração:\",k)\n",
        "      print(\"Taxa de juros encontrada:\",x) #taxa de juros\n",
        "      print(\"Valor da f(juros):\",f2(x)) #f(taxa de juros)\n",
        "      print(\"Pŕoximo valor:\",(b - a)/2) \n",
        "      print(\"\\n\")\n",
        "\n",
        "      if M * f2(x) > 0:\n",
        "         a = x\n",
        "      else:\n",
        "         b = x\n",
        "\n",
        "      if (b - a) <= precisao:\n",
        "         jurosMes = (a + b)/2\n",
        "         break\n",
        "\n",
        "      k = k + 1\n",
        "\n",
        "print(\"Valor encontrado: {}% ao mês.\".format(jurosMes)) #juros mensal"
      ],
      "metadata": {
        "colab": {
          "base_uri": "https://localhost:8080/"
        },
        "id": "4ZcvChiikmWZ",
        "outputId": "cf5f6b40-08fd-43b5-9596-d14865596aa7"
      },
      "execution_count": 103,
      "outputs": [
        {
          "output_type": "stream",
          "name": "stdout",
          "text": [
            "Iteração: 1\n",
            "Taxa de juros encontrada: 2.375\n",
            "Valor da f(juros): -79.97588909140904\n",
            "Pŕoximo valor: 0.125\n",
            "\n",
            "\n",
            "Iteração: 2\n",
            "Taxa de juros encontrada: 2.3125\n",
            "Valor da f(juros): 73.00117169931764\n",
            "Pŕoximo valor: 0.0625\n",
            "\n",
            "\n",
            "Iteração: 3\n",
            "Taxa de juros encontrada: 2.34375\n",
            "Valor da f(juros): -3.5329517117352225\n",
            "Pŕoximo valor: 0.03125\n",
            "\n",
            "\n",
            "Iteração: 4\n",
            "Taxa de juros encontrada: 2.328125\n",
            "Valor da f(juros): 34.722702795872465\n",
            "Pŕoximo valor: 0.015625\n",
            "\n",
            "\n",
            "Iteração: 5\n",
            "Taxa de juros encontrada: 2.3359375\n",
            "Valor da f(juros): 15.592024861223763\n",
            "Pŕoximo valor: 0.0078125\n",
            "\n",
            "\n",
            "Valor encontrado: 2.33984375% ao mês.\n"
          ]
        }
      ]
    },
    {
      "cell_type": "markdown",
      "source": [
        "**Resposta:**\n",
        "\n",
        "Taxa de juros Mensal do parcelamento: **2.3%**\n",
        "\n",
        "Taxa de juros mais vantajosa: empréstimo do Banco"
      ],
      "metadata": {
        "id": "rQ0H_4LTXp4Z"
      }
    },
    {
      "cell_type": "markdown",
      "source": [
        "# PROBLEMA 3\n"
      ],
      "metadata": {
        "id": "Znjru0inSut1"
      }
    },
    {
      "cell_type": "markdown",
      "source": [
        "**PROBLEMA 3**"
      ],
      "metadata": {
        "id": "xLTJpNFnH6Xi"
      }
    },
    {
      "cell_type": "markdown",
      "source": [
        "No problema 3, este investidor, em Setembro de 2018, tem a opção de comprar um título no Tesouro Nacional por **889.18** reais com a promessa de pagamentos semestrais, valor a seguir, sempre em janeiro e julho. Os pagamentos vão até janeiro de 2029 onde também receberia um pagamento final.\n",
        "\n",
        "*parcela:* **48.81** reais\n",
        "\n",
        "*pagamento final:* **1,000.00** reais\n",
        "\n",
        "*total de parcelas:* **21** \n",
        "\n",
        "*total de meses:* **124**\n",
        "\n",
        "*total parcelado + pagamento final:* **2,025.01** *(1,135.83 a mais que o valor investido)*\n",
        "\n",
        "Com isso foi dado a tarefa de descobrir a taxa de juros mensal e anual embutida nesse título."
      ],
      "metadata": {
        "id": "EdBHdov9IAkb"
      }
    },
    {
      "cell_type": "markdown",
      "source": [
        "Mais uma vez, começamos inicializando as variáveis do problema"
      ],
      "metadata": {
        "id": "tPbhZXzjYC3I"
      }
    },
    {
      "cell_type": "code",
      "source": [
        "valorInvestimento3 = 889.18\n",
        "valorParcelas3 = 48.81\n",
        "pagamentoFinal3 = 1000\n",
        "totalParcelas3 = 21\n",
        "meses3 = 124\n",
        "totalRecebimento3 = 2025.01"
      ],
      "metadata": {
        "id": "OkZaLFhbLab7"
      },
      "execution_count": 104,
      "outputs": []
    },
    {
      "cell_type": "markdown",
      "source": [
        "Dessa vez, a fórmula usada para a função é um pouco diferente."
      ],
      "metadata": {
        "id": "UUSDz0MnYQqP"
      }
    },
    {
      "cell_type": "code",
      "source": [
        "def f3(juros):\n",
        "  y = 0\n",
        "  juros=juros/100\n",
        "  y = valorParcelas3/(1+juros)**4\n",
        "  for i in range (10,meses3,6):\n",
        "    y = y + (valorParcelas3/(1+juros)**(i))\n",
        "  y = y + (pagamentoFinal3/(1+juros)**(meses3))\n",
        "  return y - valorInvestimento3"
      ],
      "metadata": {
        "id": "3NIbpPV1p8je"
      },
      "execution_count": 105,
      "outputs": []
    },
    {
      "cell_type": "code",
      "source": [
        "x=np.linspace(0,5,200) \n",
        "cm = 1/2.54  \n",
        "fig, ax = plt.subplots(figsize=(15*cm, 10*cm))\n",
        "ax.plot(x, f3(x), label = 'a função f')    \n",
        "plt.axhline(y=0, color='r' ) #a linha do zero foi traçada para melhorar a visualização da raiz da função\n",
        "ax.set_xlabel('Valor do Juros',fontsize=14) \n",
        "ax.set_ylabel('Valor da Função',fontsize=14)\n",
        "ax.set_title('Função do juros',fontsize=14)\n",
        "ax.legend(loc='lower right')\n",
        "ax.grid(True)\n",
        "\n",
        "plt.show()"
      ],
      "metadata": {
        "colab": {
          "base_uri": "https://localhost:8080/",
          "height": 297
        },
        "id": "wl1b6LguJK9M",
        "outputId": "cd8d386b-3312-4bce-f517-597313dfd52e"
      },
      "execution_count": 106,
      "outputs": [
        {
          "output_type": "display_data",
          "data": {
            "text/plain": [
              "<Figure size 425.197x283.465 with 1 Axes>"
            ],
            "image/png": "[encoded data removed]"
          },
          "metadata": {
            "needs_background": "light"
          }
        }
      ]
    },
    {
      "cell_type": "code",
      "source": [
        "x=np.linspace(0.7,1.1,200) \n",
        "cm = 1/2.54  \n",
        "fig, ax = plt.subplots(figsize=(15*cm, 10*cm))\n",
        "ax.plot(x, f3(x), label = 'a função f')    \n",
        "plt.axhline(y=0, color='r' ) #a linha do zero foi traçada para melhorar a visualização da raiz da função\n",
        "ax.set_xlabel('Valor do Juros',fontsize=14) \n",
        "ax.set_ylabel('Valor da Função',fontsize=14)\n",
        "ax.set_title('Função do juros',fontsize=14)\n",
        "ax.legend(loc='lower right')\n",
        "ax.grid(True)\n",
        "\n",
        "plt.show()"
      ],
      "metadata": {
        "colab": {
          "base_uri": "https://localhost:8080/",
          "height": 297
        },
        "id": "qTNfhxg-Q177",
        "outputId": "9072a4eb-416a-4328-d15d-dd5b0cd7427a"
      },
      "execution_count": 107,
      "outputs": [
        {
          "output_type": "display_data",
          "data": {
            "text/plain": [
              "<Figure size 425.197x283.465 with 1 Axes>"
            ],
            "image/png": "[encoded data removed]"
          },
          "metadata": {
            "needs_background": "light"
          }
        }
      ]
    },
    {
      "cell_type": "code",
      "source": [
        "a = 0.8 #intervalo inicial\n",
        "b = 1.2 #intervalo inicial\n",
        "\n",
        "precisao = 0.1 #como não foi dado uma precisão, achamos que por se tratar de juros, 0.1 seria uma boa precisão\n",
        "\n",
        "if (b-a) < precisao:\n",
        "   jurosMes = a\n",
        "else:\n",
        "   k = 1 #interações\n",
        "   M = f3(a)\n",
        "   while True:\n",
        "      x = (a+b)/2\n",
        "      print(\"Iteração:\",k)\n",
        "      print(\"Taxa de juros encontrada:\",x) #taxa de juros\n",
        "      print(\"Valor da f(juros):\",f3(x)) #f(taxa de juros)\n",
        "      print(\"Pŕoximo valor:\",(b - a)/2) \n",
        "      print(\"\\n\")\n",
        "\n",
        "      if M * f3(x) > 0:\n",
        "         a = x\n",
        "      else:\n",
        "         b = x\n",
        "\n",
        "      if (b - a) <= precisao:\n",
        "         jurosMes = (a + b)/2\n",
        "         break\n",
        "\n",
        "      k = k + 1\n",
        "\n",
        "print(\"Valor encontrado: {}% ao mês.\".format(jurosMes)) #juros mensal\n"
      ],
      "metadata": {
        "colab": {
          "base_uri": "https://localhost:8080/"
        },
        "id": "86cMay9OJeob",
        "outputId": "715df86a-f9f4-46fb-a2c3-842cce7fe2a1"
      },
      "execution_count": 108,
      "outputs": [
        {
          "output_type": "stream",
          "name": "stdout",
          "text": [
            "Iteração: 1\n",
            "Taxa de juros encontrada: 1.0\n",
            "Valor da f(juros): -33.88966233682379\n",
            "Pŕoximo valor: 0.19999999999999996\n",
            "\n",
            "\n",
            "Iteração: 2\n",
            "Taxa de juros encontrada: 0.9\n",
            "Valor da f(juros): 32.761770817841466\n",
            "Pŕoximo valor: 0.09999999999999998\n",
            "\n",
            "\n",
            "Valor encontrado: 0.95% ao mês.\n"
          ]
        }
      ]
    },
    {
      "cell_type": "code",
      "source": [
        "def jurosAno(juros):\n",
        "  y = ((juros/100)+1)**12\n",
        "  y = (y-1)*100\n",
        "  return y"
      ],
      "metadata": {
        "id": "hylrH0EiP3pq"
      },
      "execution_count": 109,
      "outputs": []
    },
    {
      "cell_type": "code",
      "source": [
        "print(\"O valor encontrado para o juros anual é: {}%\".format(jurosAno(jurosMes)))"
      ],
      "metadata": {
        "colab": {
          "base_uri": "https://localhost:8080/"
        },
        "id": "w5AOUmKrP9Co",
        "outputId": "50ab1582-8be8-4a0d-ff06-2a13dab3c7d2"
      },
      "execution_count": 110,
      "outputs": [
        {
          "output_type": "stream",
          "name": "stdout",
          "text": [
            "O valor encontrado para o juros anual é: 12.01492162741773%\n"
          ]
        }
      ]
    },
    {
      "cell_type": "markdown",
      "source": [
        "**Resposta:**\n",
        "\n",
        "Taxa de juros Mensal: **0.9%**\n",
        "\n",
        "Taxa de juros Anual: **12.0%**"
      ],
      "metadata": {
        "id": "9ZPxf6WQYGcu"
      }
    },
    {
      "cell_type": "markdown",
      "source": [
        "# PROBLEMA 4\n"
      ],
      "metadata": {
        "id": "Eekv_-nDSy01"
      }
    },
    {
      "cell_type": "markdown",
      "source": [
        "**PROBLEMA 4**"
      ],
      "metadata": {
        "id": "n6lzvNoZLxf5"
      }
    },
    {
      "cell_type": "markdown",
      "source": [
        "No problema 4, outro investidor, um ano depois, tem a opção de comprar o mes título no Tesouro Nacional da questão anterior, por **1,207.52** reais. Assim como na última questão, beneficiando o comprador com pagamentos semestrais, valor a seguir, sempre em janeiro e julho. Os pagamentos vão até janeiro de 2029 onde também receberia um pagamento final.\n",
        "\n",
        "*parcela:* **48.81** reais\n",
        "\n",
        "*pagamento final:* **1,000.00** reais\n",
        "\n",
        "*total de parcelas:* **19** \n",
        "\n",
        "*total de meses:* **112**\n",
        "\n",
        "*total parcelado + pagamento final:* **1,927.39** *(719,87 a mais que o valor investido)*\n",
        "\n",
        "Com isso foi dado a tarefa de descobrir a taxa de juros mensal e anual embutida nesse título."
      ],
      "metadata": {
        "id": "2rZy8rrXL1Gt"
      }
    },
    {
      "cell_type": "markdown",
      "source": [
        "Essa questão é muito parecida com a anterior, Problema 3, então o desenvolvimento ficou da mesma forma."
      ],
      "metadata": {
        "id": "lHIgtv9QYhrD"
      }
    },
    {
      "cell_type": "code",
      "source": [
        "valorInvestimento4 = 1207.52\n",
        "valorParcelas4 = 48.81\n",
        "pagamentoFinal4 = 1000\n",
        "totalParcelas4 = 19\n",
        "meses4 = 112\n",
        "totalRecebimento4 = 1,927.39"
      ],
      "metadata": {
        "id": "tE5_w2ReMokR"
      },
      "execution_count": 118,
      "outputs": []
    },
    {
      "cell_type": "code",
      "source": [
        "def f4(juros):\n",
        "  y = 0\n",
        "  juros=juros/100\n",
        "  y = valorParcelas4/(1+juros)**4\n",
        "  for i in range (10,meses4,6):\n",
        "    y = y + (valorParcelas4/(1+juros)**(i))\n",
        "  y = y + (pagamentoFinal4/(1+juros)**(meses4))\n",
        "  return y - valorInvestimento4"
      ],
      "metadata": {
        "id": "sQ6OGKkkc6xz"
      },
      "execution_count": 119,
      "outputs": []
    },
    {
      "cell_type": "code",
      "source": [
        "x=np.linspace(0,5,200) \n",
        "cm = 1/2.54  \n",
        "fig, ax = plt.subplots(figsize=(15*cm, 10*cm))\n",
        "ax.plot(x, f4(x), label = 'a função f')    \n",
        "plt.axhline(y=0, color='r' ) #a linha do zero foi traçada para melhorar a visualização da raiz da função\n",
        "ax.set_xlabel('Valor do Juros',fontsize=14) \n",
        "ax.set_ylabel('Valor da Função',fontsize=14)\n",
        "ax.set_title('Função do juros',fontsize=14)\n",
        "ax.legend(loc='lower right')\n",
        "ax.grid(True)\n",
        "\n",
        "plt.show()"
      ],
      "metadata": {
        "colab": {
          "base_uri": "https://localhost:8080/",
          "height": 297
        },
        "id": "SiQy_GyZQkKm",
        "outputId": "869fc2af-6c84-4f26-e44e-4bfeb9226ee9"
      },
      "execution_count": 121,
      "outputs": [
        {
          "output_type": "display_data",
          "data": {
            "text/plain": [
              "<Figure size 425.197x283.465 with 1 Axes>"
            ],
            "image/png": "[encoded data removed]"
          },
          "metadata": {
            "needs_background": "light"
          }
        }
      ]
    },
    {
      "cell_type": "code",
      "source": [
        "x=np.linspace(0.4,0.8,200) \n",
        "cm = 1/2.54  \n",
        "fig, ax = plt.subplots(figsize=(15*cm, 10*cm))\n",
        "ax.plot(x, f4(x), label = 'a função f')    \n",
        "plt.axhline(y=0, color='r' ) #a linha do zero foi traçada para melhorar a visualização da raiz da função\n",
        "ax.set_xlabel('Valor do Juros',fontsize=14) \n",
        "ax.set_ylabel('Valor da Função',fontsize=14)\n",
        "ax.set_title('Função do juros',fontsize=14)\n",
        "ax.legend(loc='lower right')\n",
        "ax.grid(True)\n",
        "\n",
        "plt.show()"
      ],
      "metadata": {
        "colab": {
          "base_uri": "https://localhost:8080/",
          "height": 297
        },
        "id": "E2Ocx1rKRcMk",
        "outputId": "d502d758-c6b4-4b2e-9835-2bf6b37923fa"
      },
      "execution_count": 122,
      "outputs": [
        {
          "output_type": "display_data",
          "data": {
            "text/plain": [
              "<Figure size 425.197x283.465 with 1 Axes>"
            ],
            "image/png": "[encoded data removed]"
          },
          "metadata": {
            "needs_background": "light"
          }
        }
      ]
    },
    {
      "cell_type": "code",
      "source": [
        "a = 0.5 #intervalo inicial\n",
        "b = 0.6 #intervalo inicial\n",
        "\n",
        "precisao = 0.01 #como não foi dado uma precisão, achamos que por se tratar de juros, 0.1 seria uma boa precisão\n",
        "\n",
        "if (b-a) < precisao:\n",
        "   jurosMes = a\n",
        "else:\n",
        "   k = 1 #interações\n",
        "   M = f3(a)\n",
        "   while True:\n",
        "      x = (a+b)/2\n",
        "      print(\"Iteração:\",k)\n",
        "      print(\"Taxa de juros encontrada:\",x) #taxa de juros\n",
        "      print(\"Valor da f(juros):\",f3(x)) #f(taxa de juros)\n",
        "      print(\"Pŕoximo valor:\",(b - a)/2) \n",
        "      print(\"\\n\")\n",
        "\n",
        "      if M * f3(x) > 0:\n",
        "         a = x\n",
        "      else:\n",
        "         b = x\n",
        "\n",
        "      if (b - a) <= precisao:\n",
        "         jurosMes = (a + b)/2\n",
        "         break\n",
        "\n",
        "      k = k + 1\n",
        "\n",
        "print(\"Valor encontrado: {}% ao mês.\".format(jurosMes)) #juros mensal\n"
      ],
      "metadata": {
        "colab": {
          "base_uri": "https://localhost:8080/"
        },
        "id": "ckhOqsvDRlws",
        "outputId": "85fcd547-33b7-42fb-d475-9c275fb8ce49"
      },
      "execution_count": 125,
      "outputs": [
        {
          "output_type": "stream",
          "name": "stdout",
          "text": [
            "Iteração: 1\n",
            "Taxa de juros encontrada: 0.55\n",
            "Valor da f(juros): 328.6230014114982\n",
            "Pŕoximo valor: 0.04999999999999999\n",
            "\n",
            "\n",
            "Iteração: 2\n",
            "Taxa de juros encontrada: 0.575\n",
            "Valor da f(juros): 303.70297733820723\n",
            "Pŕoximo valor: 0.024999999999999967\n",
            "\n",
            "\n",
            "Iteração: 3\n",
            "Taxa de juros encontrada: 0.5874999999999999\n",
            "Valor da f(juros): 291.48818464993894\n",
            "Pŕoximo valor: 0.012500000000000011\n",
            "\n",
            "\n",
            "Iteração: 4\n",
            "Taxa de juros encontrada: 0.59375\n",
            "Valor da f(juros): 285.4410705527033\n",
            "Pŕoximo valor: 0.006250000000000033\n",
            "\n",
            "\n",
            "Valor encontrado: 0.596875% ao mês.\n"
          ]
        }
      ]
    },
    {
      "cell_type": "code",
      "source": [
        "def jurosAno(juros):\n",
        "  y = ((juros/100)+1)**12\n",
        "  y = (y-1)*100\n",
        "  return y"
      ],
      "metadata": {
        "id": "xppIQ8B0Ya_M"
      },
      "execution_count": 126,
      "outputs": []
    },
    {
      "cell_type": "code",
      "source": [
        "print(\"O valor encontrado para o juros anual é: {}%\".format(jurosAno(jurosMes)))"
      ],
      "metadata": {
        "colab": {
          "base_uri": "https://localhost:8080/"
        },
        "id": "aQ-QXlqNYbl9",
        "outputId": "505281dc-2124-4d16-fd36-a2141fad3483"
      },
      "execution_count": 127,
      "outputs": [
        {
          "output_type": "stream",
          "name": "stdout",
          "text": [
            "O valor encontrado para o juros anual é: 7.402373011452057%\n"
          ]
        }
      ]
    },
    {
      "cell_type": "markdown",
      "source": [
        "**Resposta:**\n",
        "\n",
        "Taxa de juros Mensal: **0.5%**\n",
        "\n",
        "Taxa de juros Anual: **7.4%**"
      ],
      "metadata": {
        "id": "N0Ef2pEhYQ_0"
      }
    }
  ]
}